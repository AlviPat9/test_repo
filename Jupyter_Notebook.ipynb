{
 "cells": [
  {
   "cell_type": "markdown",
   "metadata": {},
   "source": [
    "<center>\n",
    "    <img src=\"https://s3-api.us-geo.objectstorage.softlayer.net/cf-courses-data/CognitiveClass/Logos/organization_logo/organization_logo.png\" width=\"300\" alt=\"cognitiveclass.ai logo\"  />\n",
    "</center>\n"
   ]
  },
  {
   "cell_type": "markdown",
   "metadata": {},
   "source": [
    "# My Jupyter Notebook on IBM Watson Studio"
   ]
  },
  {
   "cell_type": "markdown",
   "metadata": {},
   "source": [
    "**Álvaro Marcos Canedo**\n",
    "\n",
    "I am an aerospace engineer working for Airbus and I would love to implement all I have learnt and all I will learn in IBM Data Science Certificate to my job to upgrade my skills."
   ]
  },
  {
   "cell_type": "markdown",
   "metadata": {},
   "source": [
    "*I am interested in data science because it is a revolutionary science that can be applied to all sector to improve performance. I would love to apply it to my current job to get a new dimension for the industry.* "
   ]
  },
  {
   "cell_type": "markdown",
   "metadata": {},
   "source": [
    "### The code represented on next cell, gets the square root of a number, in this case, that number is my age"
   ]
  },
  {
   "cell_type": "code",
   "execution_count": 1,
   "metadata": {},
   "outputs": [
    {
     "name": "stdout",
     "output_type": "stream",
     "text": [
      "4.795831523312719\n"
     ]
    }
   ],
   "source": [
    "print(23**0.5)"
   ]
  },
  {
   "cell_type": "markdown",
   "metadata": {},
   "source": [
    "Shop list\n",
    "\n",
    "- Eggs\n",
    "- Cheese\n",
    "- Bacon\n",
    "- Tomato\n",
    "\n",
    "|Item|Unit price|Units|\n",
    "|----|----------|-----|\n",
    "|Eggs|2.99|2|\n",
    "|Cheese|4.56|3|\n",
    "|Bacon|1.99|1|\n",
    "|Tomato|\n",
    "\n",
    "\n",
    "\n",
    "\n",
    "The steps to make a pizza are:\n",
    "1. Make the dough\n",
    "2. Wait at least 2h for it to ferment\n",
    "3. Put ingredients, and bake it in the oven.\n"
   ]
  },
  {
   "cell_type": "code",
   "execution_count": null,
   "metadata": {},
   "outputs": [],
   "source": []
  }
 ],
 "metadata": {
  "kernelspec": {
   "display_name": "Python",
   "language": "python",
   "name": "conda-env-python-py"
  },
  "language_info": {
   "codemirror_mode": {
    "name": "ipython",
    "version": 3
   },
   "file_extension": ".py",
   "mimetype": "text/x-python",
   "name": "python",
   "nbconvert_exporter": "python",
   "pygments_lexer": "ipython3",
   "version": "3.7.12"
  }
 },
 "nbformat": 4,
 "nbformat_minor": 4
}
